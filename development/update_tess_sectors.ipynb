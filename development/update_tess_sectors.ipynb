{
 "cells": [
  {
   "cell_type": "code",
   "execution_count": 2,
   "id": "f699122a",
   "metadata": {},
   "outputs": [],
   "source": [
    "import pandas as pd \n",
    "from astropy.time import Time"
   ]
  },
  {
   "cell_type": "code",
   "execution_count": 9,
   "id": "07bebdbf",
   "metadata": {},
   "outputs": [
    {
     "name": "stderr",
     "output_type": "stream",
     "text": [
      "/var/folders/db/hdghk6ts5g11hr10jq0ss625nf1ny2/T/ipykernel_10556/1019568273.py:1: ParserWarning: Falling back to the 'python' engine because the 'c' engine does not support skipfooter; you can avoid this warning by specifying engine='python'.\n",
      "  data = pd.read_csv('https://tess.mit.edu/public/files/TESS_orbit_times.csv',skipfooter=1)\n"
     ]
    }
   ],
   "source": [
    "data = pd.read_csv('https://tess.mit.edu/public/files/TESS_orbit_times.csv',skipfooter=1)"
   ]
  },
  {
   "cell_type": "code",
   "execution_count": 10,
   "id": "3ebad035",
   "metadata": {},
   "outputs": [],
   "source": [
    "sectors = data['Sector'].unique()"
   ]
  },
  {
   "cell_type": "code",
   "execution_count": 28,
   "id": "6d49e9f4",
   "metadata": {},
   "outputs": [],
   "source": [
    "df = pd.DataFrame()\n",
    "for sector in sectors:\n",
    "    s = data.loc[data['Sector'] == sector]\n",
    "    start = Time(s['Start of Orbit'].values[0])\n",
    "    end = Time(s['End of Orbit'].values[1])\n",
    "    entry = pd.DataFrame()\n",
    "    entry['Sector'] = [sector]\n",
    "    entry['mjd_start'] = [start.mjd]\n",
    "    entry['mjd_end'] = [end.mjd]\n",
    "    df = pd.concat([df,entry])"
   ]
  },
  {
   "cell_type": "code",
   "execution_count": 29,
   "id": "dfc55f06",
   "metadata": {},
   "outputs": [
    {
     "data": {
      "text/html": [
       "<div>\n",
       "<style scoped>\n",
       "    .dataframe tbody tr th:only-of-type {\n",
       "        vertical-align: middle;\n",
       "    }\n",
       "\n",
       "    .dataframe tbody tr th {\n",
       "        vertical-align: top;\n",
       "    }\n",
       "\n",
       "    .dataframe thead th {\n",
       "        text-align: right;\n",
       "    }\n",
       "</style>\n",
       "<table border=\"1\" class=\"dataframe\">\n",
       "  <thead>\n",
       "    <tr style=\"text-align: right;\">\n",
       "      <th></th>\n",
       "      <th>Sector</th>\n",
       "      <th>mjd_start</th>\n",
       "      <th>mjd_end</th>\n",
       "    </tr>\n",
       "  </thead>\n",
       "  <tbody>\n",
       "    <tr>\n",
       "      <th>0</th>\n",
       "      <td>1</td>\n",
       "      <td>58324.815972</td>\n",
       "      <td>58352.684028</td>\n",
       "    </tr>\n",
       "    <tr>\n",
       "      <th>0</th>\n",
       "      <td>2</td>\n",
       "      <td>58353.607639</td>\n",
       "      <td>58381.020833</td>\n",
       "    </tr>\n",
       "    <tr>\n",
       "      <th>0</th>\n",
       "      <td>3</td>\n",
       "      <td>58382.225694</td>\n",
       "      <td>58408.875000</td>\n",
       "    </tr>\n",
       "    <tr>\n",
       "      <th>0</th>\n",
       "      <td>4</td>\n",
       "      <td>58410.406250</td>\n",
       "      <td>58436.357639</td>\n",
       "    </tr>\n",
       "    <tr>\n",
       "      <th>0</th>\n",
       "      <td>5</td>\n",
       "      <td>58437.482639</td>\n",
       "      <td>58463.795139</td>\n",
       "    </tr>\n",
       "    <tr>\n",
       "      <th>...</th>\n",
       "      <td>...</td>\n",
       "      <td>...</td>\n",
       "      <td>...</td>\n",
       "    </tr>\n",
       "    <tr>\n",
       "      <th>0</th>\n",
       "      <td>93</td>\n",
       "      <td>60829.357639</td>\n",
       "      <td>60842.638889</td>\n",
       "    </tr>\n",
       "    <tr>\n",
       "      <th>0</th>\n",
       "      <td>94</td>\n",
       "      <td>60855.763889</td>\n",
       "      <td>60868.236111</td>\n",
       "    </tr>\n",
       "    <tr>\n",
       "      <th>0</th>\n",
       "      <td>95</td>\n",
       "      <td>60881.833333</td>\n",
       "      <td>60894.173611</td>\n",
       "    </tr>\n",
       "    <tr>\n",
       "      <th>0</th>\n",
       "      <td>96</td>\n",
       "      <td>60907.274306</td>\n",
       "      <td>60919.989583</td>\n",
       "    </tr>\n",
       "    <tr>\n",
       "      <th>0</th>\n",
       "      <td>97</td>\n",
       "      <td>60933.159722</td>\n",
       "      <td>60946.371528</td>\n",
       "    </tr>\n",
       "  </tbody>\n",
       "</table>\n",
       "<p>97 rows × 3 columns</p>\n",
       "</div>"
      ],
      "text/plain": [
       "    Sector     mjd_start       mjd_end\n",
       "0        1  58324.815972  58352.684028\n",
       "0        2  58353.607639  58381.020833\n",
       "0        3  58382.225694  58408.875000\n",
       "0        4  58410.406250  58436.357639\n",
       "0        5  58437.482639  58463.795139\n",
       "..     ...           ...           ...\n",
       "0       93  60829.357639  60842.638889\n",
       "0       94  60855.763889  60868.236111\n",
       "0       95  60881.833333  60894.173611\n",
       "0       96  60907.274306  60919.989583\n",
       "0       97  60933.159722  60946.371528\n",
       "\n",
       "[97 rows x 3 columns]"
      ]
     },
     "execution_count": 29,
     "metadata": {},
     "output_type": "execute_result"
    }
   ],
   "source": [
    "df"
   ]
  },
  {
   "cell_type": "code",
   "execution_count": null,
   "id": "8efcc1f6",
   "metadata": {},
   "outputs": [],
   "source": [
    "def update_sector_times():\n",
    "    import pandas as pd \n",
    "    from astropy.time import Time\n",
    "    data = pd.read_csv('https://tess.mit.edu/public/files/TESS_orbit_times.csv',skipfooter=1)\n",
    "    sectors = data['Sector'].unique()\n",
    "    df = pd.DataFrame()\n",
    "    for sector in sectors:\n",
    "        s = data.loc[data['Sector'] == sector]\n",
    "        start = Time(s['Start of Orbit'].values[0])\n",
    "        end = Time(s['End of Orbit'].values[1])\n",
    "        entry = pd.DataFrame()\n",
    "        entry['Sector'] = [sector]\n",
    "        entry['mjd_start'] = [start.mjd]\n",
    "        entry['mjd_end'] = [end.mjd]\n",
    "        df = pd.concat([df,entry])"
   ]
  }
 ],
 "metadata": {
  "kernelspec": {
   "display_name": "Python 3 (ipykernel)",
   "language": "python",
   "name": "python3"
  },
  "language_info": {
   "codemirror_mode": {
    "name": "ipython",
    "version": 3
   },
   "file_extension": ".py",
   "mimetype": "text/x-python",
   "name": "python",
   "nbconvert_exporter": "python",
   "pygments_lexer": "ipython3",
   "version": "3.12.2"
  }
 },
 "nbformat": 4,
 "nbformat_minor": 5
}
